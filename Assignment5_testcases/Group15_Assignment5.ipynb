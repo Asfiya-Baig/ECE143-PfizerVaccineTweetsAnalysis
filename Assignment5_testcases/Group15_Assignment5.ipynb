{
  "nbformat": 4,
  "nbformat_minor": 0,
  "metadata": {
    "kernelspec": {
      "display_name": "Python 3",
      "language": "python",
      "name": "python3"
    },
    "language_info": {
      "codemirror_mode": {
        "name": "ipython",
        "version": 3
      },
      "file_extension": ".py",
      "mimetype": "text/x-python",
      "name": "python",
      "nbconvert_exporter": "python",
      "pygments_lexer": "ipython3",
      "version": "3.8.6"
    },
    "colab": {
      "name": "Group15_Assignment5.ipynb",
      "provenance": [],
      "collapsed_sections": []
    }
  },
  "cells": [
    {
      "cell_type": "markdown",
      "metadata": {
        "id": "AFRbf2-nxPsl"
      },
      "source": [
        "# Question1 Word Processing"
      ]
    },
    {
      "cell_type": "markdown",
      "metadata": {
        "id": "TgQA8FUHxPs0"
      },
      "source": [
        "**Validation Tests** <br>\n",
        "Check for corner cases and constraints in the inputs enlist all cases used for testing"
      ]
    },
    {
      "cell_type": "code",
      "metadata": {
        "id": "C8u-DTqKxPs1"
      },
      "source": [
        "from word_process import * \n",
        "words = Path('google-10000-english-no-swears.txt').read_text().splitlines()\n",
        "start = 's'\n",
        "assert isinstance(words, list), 'check the input must be a list'\n",
        "assert all(isinstance(x, str) and x.isalpha()  for x in words), 'check the input must be a list of string '\n",
        "assert isinstance(start, str), 'check the strat must be a string'\n",
        "assert len(start) == 1, 'check the length of strat must be a 1'"
      ],
      "execution_count": null,
      "outputs": []
    },
    {
      "cell_type": "markdown",
      "metadata": {
        "id": "8cLWn2vPxPs1"
      },
      "source": [
        "**Functional Tests** <br>\n",
        "Check function output matches expected result enlist all cases used for testing"
      ]
    },
    {
      "cell_type": "code",
      "metadata": {
        "id": "ft3PAoHYxPs2"
      },
      "source": [
        "# print(get_average_word_length(words))\n",
        "assert 6.5967464888350005 == get_average_word_length(words)\n",
        "# print(get_longest_word(words))\n",
        "assert 'telecommunications' == get_longest_word(words)\n",
        "# print(get_longest_words_startswith(words, 't'))\n",
        "assert 'telecommunications' == get_longest_words_startswith(words, 't')\n",
        "# print(get_most_common_start(words))\n",
        "assert 'c' == get_most_common_start(words)\n",
        "# print(get_most_common_end(words))\n",
        "assert 's' == get_most_common_end(words)"
      ],
      "execution_count": null,
      "outputs": []
    },
    {
      "cell_type": "code",
      "metadata": {
        "id": "rxdDdT7XxPs2"
      },
      "source": [
        "\n",
        "# set 1\n",
        "data = 'Mary had a little lamb its fleece was white as snow and everywhere that Mary went the lamb was sure to go'\n",
        "words = data.split()\n",
        "# print(get_average_word_length(words))\n",
        "assert 3.8181818181818183 == get_average_word_length(words), 'check the average length of the words in the sentence'\n",
        "# print(get_longest_word(words))\n",
        "assert 'everywhere' == get_longest_word(words), 'check the longest word in the sentence'\n",
        "# print(get_longest_words_startswith(words, 't'))\n",
        "assert 'little' == get_longest_words_startswith(words, 'l'), 'check the longest word start with a'\n",
        "# print(get_most_common_start(words))\n",
        "# there are 4 words starting with 'w': was white was went\n",
        "assert 'w' == get_most_common_start(words), 'check the most common starting character in the words'\n",
        "# print(get_most_common_end(words))\n",
        "# there are 5 words ending with 'e': little, fleece, white, everywhere, sure\n",
        "assert 'e' == get_most_common_end(words), 'check the most common ending character in the words'\n",
        "\n",
        "# set 2\n",
        "words = ['from', 'at', 'as', 'your', 'all', 'have', 'new', 'more', 'an', 'was']\n",
        "assert 3.1 == get_average_word_length(words)\n",
        "assert 'from' == get_longest_word(words)\n",
        "assert 'all' == get_longest_words_startswith(words, 'a')\n",
        "assert 'a' == get_most_common_start(words)\n",
        "assert 'e' == get_most_common_end(words)\n",
        "\n",
        "# set 3\n",
        "words = ['from']\n",
        "assert 4 == get_average_word_length(words)\n",
        "assert 'from' == get_longest_word(words)\n",
        "assert '' == get_longest_words_startswith(words, 'a')\n",
        "assert 'f' == get_most_common_start(words)\n",
        "assert 'm' == get_most_common_end(words)\n",
        "\n",
        "# set 4\n",
        "words = []\n",
        "assert 0 == get_average_word_length(words)\n",
        "assert '' == get_longest_word(words)\n",
        "assert '' == get_longest_words_startswith(words, 'a')\n",
        "assert '' == get_most_common_start(words)\n",
        "assert '' == get_most_common_end(words)"
      ],
      "execution_count": null,
      "outputs": []
    },
    {
      "cell_type": "markdown",
      "metadata": {
        "id": "AgFeJ9I1xPs3"
      },
      "source": [
        "# Question2 Interval Objects"
      ]
    },
    {
      "cell_type": "markdown",
      "metadata": {
        "id": "IGw-FGhaxPs3"
      },
      "source": [
        "**Validation Tests** <br>\n",
        "Check for corner cases and constraints in the inputs enlist all cases used for testing"
      ]
    },
    {
      "cell_type": "code",
      "metadata": {
        "id": "sXiAgaAwxPs3"
      },
      "source": [
        "a = 1\n",
        "b = 3\n",
        "assert a < b, 'the left edge of the open interval must be smaller than right edge'\n",
        "assert isinstance(a, int), 'the left edge must be an integer'\n",
        "assert isinstance(b, int), 'the right edge must be an integer'\n",
        "assert isinstance(other, Interval)"
      ],
      "execution_count": null,
      "outputs": []
    },
    {
      "cell_type": "markdown",
      "metadata": {
        "id": "Im-AhuAnxPs4"
      },
      "source": [
        "**Functional Tests** <br>\n",
        "Check function output matches expected result enlist all cases used for testing"
      ]
    },
    {
      "cell_type": "code",
      "metadata": {
        "id": "7RVaC8y4xPs4"
      },
      "source": [
        "from interval import * \n",
        "a = Interval(1,3)\n",
        "b = Interval(2,4)\n",
        "c = Interval(5,10)\n",
        "d = Interval(3,5)\n",
        "\n",
        "equal = (a==b)\n",
        "assert equal== False\n",
        "\n",
        "less_than = Interval(1, 3) < Interval(4, 5)\n",
        "assert less_than== True\n",
        "greater_thaan = Interval(1, 3) > Interval(-3, -1)\n",
        "assert greater_thaan== True\n",
        "less_equal = Interval(1, 3) <= Interval(3, 5)\n",
        "assert less_equal== True\n",
        "greater_equal = Interval(1, 3) >= Interval(-3, 1)\n",
        "assert greater_equal== True\n",
        "\n",
        "result1 = (a + b)\n",
        "assert result1 == Interval(1,4), 'check for two intervals with intersection'\n",
        "result2 = (b + c)\n",
        "assert result2 == [Interval(2,4), Interval(5,10)], 'check for two intervals without intersection'\n",
        "result3 = (a + d)\n",
        "assert result3 == [Interval(1,3), Interval(3,5)], 'check for two open intervals with equal left edge and right edge'\n",
        "\n",
        "# a: Non merging type 1 (end of a < start of b)\n",
        "a = Interval(2, 4)\n",
        "b = Interval(10, 20)\n",
        "assert a + b == [a, b]\n",
        "\n",
        "# b: Non merging type 2 (end of a = start of b)\n",
        "a = Interval(2, 4)\n",
        "b = Interval(4, 20)\n",
        "assert a + b == [a, b]\n",
        "\n",
        "# c: merging type 1 (small overlap between a and b)\n",
        "a = Interval(2, 10)\n",
        "b = Interval(7, 20)\n",
        "assert a + b == Interval(2, 20)\n",
        "\n",
        "\n",
        "# d: merging type 2 ( b is contained within a )\n",
        "a = Interval(2, 10)\n",
        "b = Interval(4, 8)\n",
        "assert a + b == a\n",
        "\n",
        "# e: b starts before a\n",
        "b = Interval(2, 10)\n",
        "a = Interval(4, 8)\n",
        "assert a + b == b"
      ],
      "execution_count": null,
      "outputs": []
    },
    {
      "cell_type": "markdown",
      "metadata": {
        "id": "6pjviogxxPs4"
      },
      "source": [
        "# Question3 Random Slash"
      ]
    },
    {
      "cell_type": "markdown",
      "metadata": {
        "id": "bJhrNQJTxPs5"
      },
      "source": [
        "**Validation Tests** <br>\n",
        "Check for corner cases and constraints in the inputs enlist all cases used for testing"
      ]
    },
    {
      "cell_type": "code",
      "metadata": {
        "id": "765h5OQpxPs5"
      },
      "source": [
        "m = 6\n",
        "n = 6\n",
        "direction = 'back'\n",
        "assert isinstance(m, int), 'number of rows must be an integet'\n",
        "assert m > 1, 'number of rows must be at least 2'\n",
        "assert isinstance(n, int), 'number of columns must be an integet'\n",
        "assert n > 1, 'number of rows must be an integet'\n",
        "assert isinstance(direction, str), 'the slash direction must be a string'\n",
        "assert direction == 'forward' or direction == 'back', 'the slash direction must be either back or forward'"
      ],
      "execution_count": null,
      "outputs": []
    },
    {
      "cell_type": "markdown",
      "metadata": {
        "id": "S0YLn60wxPs5"
      },
      "source": [
        "**Functional Tests** <br>\n",
        "Check function output matches expected result enlist all cases used for testing"
      ]
    },
    {
      "cell_type": "code",
      "metadata": {
        "id": "4CuSeG-oxPs5"
      },
      "source": [
        "from matplotlib.pyplot import subplots\n",
        "from matplotlib import cm\n",
        "from random_slash import *"
      ],
      "execution_count": null,
      "outputs": []
    },
    {
      "cell_type": "code",
      "metadata": {
        "id": "gyRyE1xExPs6"
      },
      "source": [
        "result1 = gen_rand_slash(2, 2)\n",
        "assert np.array_equal(result1, np.eye(2)), 'check the unique result of m=n=2'"
      ],
      "execution_count": null,
      "outputs": []
    },
    {
      "cell_type": "code",
      "metadata": {
        "id": "GV6Kzz5AxPs6"
      },
      "source": [
        "result_set = np.zeros((3, 3, 5))\n",
        "result_set[:, :, 0] = np.eye(3)\n",
        "result_set[:, :, 1] = np.array([[0,1,0], [0,0,1], [0,0,0]])\n",
        "result_set[:, :, 2] = np.array([[1,0,0], [0,1,0], [0,0,0]])\n",
        "result_set[:, :, 3] = np.array([[0,0,0], [1,0,0], [0,1,0]])\n",
        "result_set[:, :, 4] = np.array([[0,0,0], [0,1,0], [0,0,1]])\n",
        "result2 = gen_rand_slash(3, 3)\n",
        "assert any(np.array_equal(result2, result_set[:,:,i]) for i in range(5)), 'check the result for m=3, n=3, direction=back'"
      ],
      "execution_count": null,
      "outputs": []
    },
    {
      "cell_type": "code",
      "metadata": {
        "id": "c218EngznzIw"
      },
      "source": [
        "m, n = 5, 3\r\n",
        "direction = 'forward'\r\n",
        "\r\n",
        "output = gen_rand_slash(m, n, direction)\r\n",
        "\r\n",
        "\r\n",
        "out_m, out_n = output.shape[0], output.shape[1]\r\n",
        "assert out_m == m and out_n == n and len(output.shape) == 2 # 2D array with m rows and n cols\r\n",
        "\r\n",
        "# function find the length and direction of slash\r\n",
        "def find_len_dir_slash(r, c):\r\n",
        "  # follow the direction as set earlier\r\n",
        "  inc_val_col = 1\r\n",
        "  if direction == 'forward':\r\n",
        "    inc_val_col = -1\r\n",
        "\r\n",
        "  len_slash = 0\r\n",
        "  while 0 <= r < m and 0 <= c < n:\r\n",
        "    if output[r][c] != 1:\r\n",
        "      break\r\n",
        "\r\n",
        "    output[r][c] = 2 # so r, c is not visited in the future\r\n",
        "    len_slash += 1\r\n",
        "    r += 1\r\n",
        "    c += inc_val_col\r\n",
        "\r\n",
        "  return len_slash\r\n",
        "\r\n",
        "# count the number of slashes\r\n",
        "num_slash = 0\r\n",
        "for i in range(m):\r\n",
        "  for j in range(n):\r\n",
        "    if output[i][j] == 1:\r\n",
        "      num_slash += 1\r\n",
        "      # find the length and direction of slash\r\n",
        "      len_slash = find_len_dir_slash(i, j)\r\n",
        "      assert len_slash >= 2\r\n",
        "\r\n",
        "assert num_slash == 1"
      ],
      "execution_count": null,
      "outputs": []
    },
    {
      "cell_type": "code",
      "metadata": {
        "id": "SywwhcI_xPs6",
        "outputId": "d188e99f-0f6b-400b-b8ac-6ba4af55b776"
      },
      "source": [
        "result2 = {}\n",
        "fig,axs=subplots(4,4,sharex=True,sharey=True)\n",
        "for ax in axs.flatten():\n",
        "    a = gen_rand_slash(3, 3)\n",
        "    ax.imshow(a,cmap=cm.gray_r)"
      ],
      "execution_count": null,
      "outputs": [
        {
          "output_type": "display_data",
          "data": {
            "image/png": "[encoded data removed]",
            "text/plain": [
              "<Figure size 432x288 with 16 Axes>"
            ]
          },
          "metadata": {
            "tags": [],
            "needs_background": "light"
          }
        }
      ]
    },
    {
      "cell_type": "code",
      "metadata": {
        "id": "GeDJn5WHxPs8",
        "outputId": "0192d934-c674-4c97-90d0-4e40e4a5c405"
      },
      "source": [
        "fig,axs=subplots(3,3,sharex=True,sharey=True)\n",
        "for ax in axs.flatten():\n",
        "    ax.imshow(gen_rand_slash(3, 3, 'forward'),cmap=cm.gray_r)"
      ],
      "execution_count": null,
      "outputs": [
        {
          "output_type": "display_data",
          "data": {
            "image/png": "[encoded data removed]",
            "text/plain": [
              "<Figure size 432x288 with 9 Axes>"
            ]
          },
          "metadata": {
            "tags": [],
            "needs_background": "light"
          }
        }
      ]
    },
    {
      "cell_type": "code",
      "metadata": {
        "id": "EEt-F4-hxPs8"
      },
      "source": [
        ""
      ],
      "execution_count": null,
      "outputs": []
    }
  ]
}