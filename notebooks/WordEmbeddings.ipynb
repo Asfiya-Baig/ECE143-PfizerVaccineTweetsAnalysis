{
  "nbformat": 4,
  "nbformat_minor": 0,
  "metadata": {
    "colab": {
      "name": "WordEmbeddings.ipynb",
      "provenance": [],
      "collapsed_sections": []
    },
    "kernelspec": {
      "name": "python3",
      "display_name": "Python 3"
    }
  },
  "cells": [
    {
      "cell_type": "code",
      "metadata": {
        "id": "yz2R_hOtFV1v"
      },
      "source": [
        "import pandas as pd\n",
        "import numpy as np\n",
        "import re\n",
        "import collections\n",
        "import matplotlib.pyplot as plt\n",
        "from pathlib import Path\n",
        "from sklearn.model_selection import train_test_split\n",
        "from nltk.corpus import stopwords\n",
        "from keras.preprocessing.text import Tokenizer\n",
        "from keras.preprocessing.sequence import pad_sequences\n",
        "from keras.utils.np_utils import to_categorical\n",
        "from sklearn.preprocessing import LabelEncoder\n",
        "from keras import models\n",
        "from keras import layers\n",
        "import string\n",
        "import copy\n",
        "import seaborn as sns\n",
        "sns.set()"
      ],
      "execution_count": 1,
      "outputs": []
    },
    {
      "cell_type": "code",
      "metadata": {
        "id": "Md8dlwyjMD72"
      },
      "source": [
        "NB_WORDS = 10000  # Parameter indicating the number of words we'll put in the dictionary\n",
        "VAL_SIZE = 1000  # Size of the validation set\n",
        "NB_START_EPOCHS = 10  # Number of epochs we usually start to train with\n",
        "BATCH_SIZE = 512  # Size of the batches used in the mini-batch gradient descent\n",
        "MAX_LEN = 27  # Maximum number of words in a sequence\n",
        "GLOVE_DIM = 100  # Number of dimensions of the GloVe word embeddings"
      ],
      "execution_count": 2,
      "outputs": []
    },
    {
      "cell_type": "code",
      "metadata": {
        "id": "kseFAObXMGGF"
      },
      "source": [
        "def remove_stopwords(input_text):\n",
        "    '''\n",
        "    Function to remove English stopwords from a Pandas Series.\n",
        "    \n",
        "    Parameters:\n",
        "        input_text : text to clean\n",
        "    Output:\n",
        "        cleaned Pandas Series \n",
        "    '''\n",
        "    stopwords_list = stopwords.words('english')\n",
        "    # Some words which might indicate a certain sentiment are kept via a whitelist\n",
        "    whitelist = [\"n't\", \"not\", \"no\"]\n",
        "    words = input_text.split() \n",
        "    clean_words = [word for word in words if (word not in stopwords_list or word in whitelist) and len(word) > 1] \n",
        "    return \" \".join(clean_words) \n",
        "    \n",
        "def remove_mentions(input_text):\n",
        "    '''\n",
        "    Function to remove mentions, preceded by @, in a Pandas Series\n",
        "    \n",
        "    Parameters:\n",
        "        input_text : text to clean\n",
        "    Output:\n",
        "        cleaned Pandas Series \n",
        "    '''\n",
        "    return re.sub(r'@\\w+', '', input_text)"
      ],
      "execution_count": 3,
      "outputs": []
    },
    {
      "cell_type": "markdown",
      "metadata": {
        "id": "EkI0wurfMLPj"
      },
      "source": [
        "Data Preprocessing"
      ]
    },
    {
      "cell_type": "code",
      "metadata": {
        "colab": {
          "base_uri": "https://localhost:8080/",
          "height": 204
        },
        "id": "pZlMXN2-MIGW",
        "outputId": "b71b4b60-7ca9-464b-f549-b55bc7151af8"
      },
      "source": [
        "df = pd.read_csv('vaccination_tweets.csv')\n",
        "df = df.reindex(np.random.permutation(df.index))\n",
        "df = df[['text']]\n",
        "df.head()"
      ],
      "execution_count": 4,
      "outputs": [
        {
          "output_type": "execute_result",
          "data": {
            "text/html": [
              "<div>\n",
              "<style scoped>\n",
              "    .dataframe tbody tr th:only-of-type {\n",
              "        vertical-align: middle;\n",
              "    }\n",
              "\n",
              "    .dataframe tbody tr th {\n",
              "        vertical-align: top;\n",
              "    }\n",
              "\n",
              "    .dataframe thead th {\n",
              "        text-align: right;\n",
              "    }\n",
              "</style>\n",
              "<table border=\"1\" class=\"dataframe\">\n",
              "  <thead>\n",
              "    <tr style=\"text-align: right;\">\n",
              "      <th></th>\n",
              "      <th>text</th>\n",
              "    </tr>\n",
              "  </thead>\n",
              "  <tbody>\n",
              "    <tr>\n",
              "      <th>1044</th>\n",
              "      <td>1st dose done. #PfizerBioNTech https://t.co/ft...</td>\n",
              "    </tr>\n",
              "    <tr>\n",
              "      <th>1980</th>\n",
              "      <td>Yo this medtech is vaccinated!  #CovidVaccine ...</td>\n",
              "    </tr>\n",
              "    <tr>\n",
              "      <th>486</th>\n",
              "      <td>There’s a light at the end of the tunnel! So p...</td>\n",
              "    </tr>\n",
              "    <tr>\n",
              "      <th>1320</th>\n",
              "      <td>#Dubai government announced the start of a #va...</td>\n",
              "    </tr>\n",
              "    <tr>\n",
              "      <th>2841</th>\n",
              "      <td>Exciting times! Pleased and thankful to say th...</td>\n",
              "    </tr>\n",
              "  </tbody>\n",
              "</table>\n",
              "</div>"
            ],
            "text/plain": [
              "                                                   text\n",
              "1044  1st dose done. #PfizerBioNTech https://t.co/ft...\n",
              "1980  Yo this medtech is vaccinated!  #CovidVaccine ...\n",
              "486   There’s a light at the end of the tunnel! So p...\n",
              "1320  #Dubai government announced the start of a #va...\n",
              "2841  Exciting times! Pleased and thankful to say th..."
            ]
          },
          "metadata": {
            "tags": []
          },
          "execution_count": 4
        }
      ]
    },
    {
      "cell_type": "code",
      "metadata": {
        "colab": {
          "base_uri": "https://localhost:8080/"
        },
        "id": "TN9J-31SO0JK",
        "outputId": "48f8b86b-7df5-4250-b1db-348db8d27a19"
      },
      "source": [
        "import nltk\n",
        "nltk.download('stopwords')"
      ],
      "execution_count": 5,
      "outputs": [
        {
          "output_type": "stream",
          "text": [
            "[nltk_data] Downloading package stopwords to /root/nltk_data...\n",
            "[nltk_data]   Package stopwords is already up-to-date!\n"
          ],
          "name": "stdout"
        },
        {
          "output_type": "execute_result",
          "data": {
            "text/plain": [
              "True"
            ]
          },
          "metadata": {
            "tags": []
          },
          "execution_count": 5
        }
      ]
    },
    {
      "cell_type": "code",
      "metadata": {
        "id": "wjaGoBNtPVif"
      },
      "source": [
        "df.text = df.text.apply(remove_stopwords).apply(remove_mentions)"
      ],
      "execution_count": 6,
      "outputs": []
    },
    {
      "cell_type": "markdown",
      "metadata": {
        "id": "w9kA7VcyP9sG"
      },
      "source": [
        "Train Test Split"
      ]
    },
    {
      "cell_type": "code",
      "metadata": {
        "colab": {
          "base_uri": "https://localhost:8080/"
        },
        "id": "M6zYm95fPcBa",
        "outputId": "2e9e1b7d-a8bc-40d1-f1fa-96f709fbdfb4"
      },
      "source": [
        "X_train, X_test = train_test_split(df.text, test_size=0.1, random_state=37)\n",
        "print('# Train data samples:', X_train.shape[0])\n",
        "print('# Test data samples:', X_test.shape[0])\n",
        "# assert X_train.shape[0] == y_train.shape[0]\n",
        "# assert X_test.shape[0] == y_test.shape[0]"
      ],
      "execution_count": 7,
      "outputs": [
        {
          "output_type": "stream",
          "text": [
            "# Train data samples: 4104\n",
            "# Test data samples: 456\n"
          ],
          "name": "stdout"
        }
      ]
    },
    {
      "cell_type": "code",
      "metadata": {
        "id": "vv7CHuItQCA-"
      },
      "source": [
        "tk = Tokenizer(num_words=NB_WORDS,\n",
        "               filters='!\"#$%&()*+,-./:;<=>?@[\\\\]^_`{|}~\\t\\n',\n",
        "               lower=True,\n",
        "               split=\" \")\n",
        "tk.fit_on_texts(X_train)\n",
        "X_train_seq = tk.texts_to_sequences(X_train)\n",
        "X_test_seq = tk.texts_to_sequences(X_test)"
      ],
      "execution_count": 8,
      "outputs": []
    },
    {
      "cell_type": "markdown",
      "metadata": {
        "id": "2WkJeKZKQIMV"
      },
      "source": [
        "Creating word sequences of equal length"
      ]
    },
    {
      "cell_type": "code",
      "metadata": {
        "colab": {
          "base_uri": "https://localhost:8080/"
        },
        "id": "GEa9agUFQElA",
        "outputId": "89430358-f2d7-4619-a20f-6e357304fe64"
      },
      "source": [
        "seq_lengths = X_train.apply(lambda x: len(x.split(' ')))\n",
        "seq_lengths.describe()"
      ],
      "execution_count": 9,
      "outputs": [
        {
          "output_type": "execute_result",
          "data": {
            "text/plain": [
              "count    4104.000000\n",
              "mean       12.026803\n",
              "std         2.532222\n",
              "min         3.000000\n",
              "25%        11.000000\n",
              "50%        12.000000\n",
              "75%        14.000000\n",
              "max        27.000000\n",
              "Name: text, dtype: float64"
            ]
          },
          "metadata": {
            "tags": []
          },
          "execution_count": 9
        }
      ]
    },
    {
      "cell_type": "code",
      "metadata": {
        "id": "fBNKTpcjQKIw"
      },
      "source": [
        "X_train_seq_trunc = pad_sequences(X_train_seq, maxlen=MAX_LEN)\n",
        "X_test_seq_trunc = pad_sequences(X_test_seq, maxlen=MAX_LEN)"
      ],
      "execution_count": 10,
      "outputs": []
    },
    {
      "cell_type": "code",
      "metadata": {
        "colab": {
          "base_uri": "https://localhost:8080/"
        },
        "id": "YJeAPw0BQMGf",
        "outputId": "dcb6e1f5-5668-4d5b-acb9-5bbfc953b3c6"
      },
      "source": [
        "X_train_seq_trunc[10]  # Example of padded sequence"
      ],
      "execution_count": 11,
      "outputs": [
        {
          "output_type": "execute_result",
          "data": {
            "text/plain": [
              "array([   0,    0,    0,    0,    0,    0,    0,    0,    0,    0,    0,\n",
              "          0,    0,  610,  398, 3442, 3443,   34,  508, 1043,  727,  799,\n",
              "         52,    3,    2,    1, 3444], dtype=int32)"
            ]
          },
          "metadata": {
            "tags": []
          },
          "execution_count": 11
        }
      ]
    },
    {
      "cell_type": "code",
      "metadata": {
        "colab": {
          "base_uri": "https://localhost:8080/"
        },
        "id": "5yxu5W9IQaMt",
        "outputId": "8b5f342e-c462-4b90-b01c-4e00bd5cfd36"
      },
      "source": [
        "X_train_seq[10]"
      ],
      "execution_count": 12,
      "outputs": [
        {
          "output_type": "execute_result",
          "data": {
            "text/plain": [
              "[610, 398, 3442, 3443, 34, 508, 1043, 727, 799, 52, 3, 2, 1, 3444]"
            ]
          },
          "metadata": {
            "tags": []
          },
          "execution_count": 12
        }
      ]
    },
    {
      "cell_type": "code",
      "metadata": {
        "id": "LQ_lzzREQb1H"
      },
      "source": [
        "def filter_word(sentence):\n",
        "  return [word.lower() for word in nltk.word_tokenize(sentence) if word.isalnum]\n",
        "\n",
        "def tokenize(text):\n",
        "  return [filter_word(sentence) for sentence in nltk.sent_tokenize(text)]"
      ],
      "execution_count": 13,
      "outputs": []
    },
    {
      "cell_type": "code",
      "metadata": {
        "colab": {
          "base_uri": "https://localhost:8080/"
        },
        "id": "Gwt0V0ZGQdaw",
        "outputId": "575b78d0-47bd-45f2-9d24-80837bee2a8e"
      },
      "source": [
        "import gensim\n",
        "nltk.download('punkt')\n",
        "text_all = list(df['text'])\n",
        "\n",
        "sentences = []\n",
        "for text in text_all:\n",
        "  sentences.extend(tokenize(text))\n"
      ],
      "execution_count": 14,
      "outputs": [
        {
          "output_type": "stream",
          "text": [
            "[nltk_data] Downloading package punkt to /root/nltk_data...\n",
            "[nltk_data]   Package punkt is already up-to-date!\n"
          ],
          "name": "stdout"
        }
      ]
    },
    {
      "cell_type": "code",
      "metadata": {
        "id": "6nZ1dHU9Qe4p"
      },
      "source": [
        "word2vec_model = gensim.models.Word2Vec(sentences, sg=1, min_count=10)"
      ],
      "execution_count": 15,
      "outputs": []
    },
    {
      "cell_type": "code",
      "metadata": {
        "colab": {
          "base_uri": "https://localhost:8080/"
        },
        "id": "Jnyxo0e-QhAR",
        "outputId": "4f2b54fa-fbf6-488f-fddd-586efa253a7f"
      },
      "source": [
        "print(word2vec_model.wv.most_similar(['vaccine', 'covid']))"
      ],
      "execution_count": 16,
      "outputs": [
        {
          "output_type": "stream",
          "text": [
            "[('receive', 0.9812780022621155), ('first', 0.97469162940979), ('had', 0.9628421664237976), ('shipment', 0.9605128169059753), ('covid-19', 0.9602150917053223), ('just', 0.9485031962394714), ('monday', 0.9476942420005798), ('19', 0.9470436573028564), ('receiving', 0.9468523263931274), ('shot', 0.9456652998924255)]\n"
          ],
          "name": "stdout"
        }
      ]
    },
    {
      "cell_type": "code",
      "metadata": {
        "colab": {
          "base_uri": "https://localhost:8080/"
        },
        "id": "POXXxi00QioA",
        "outputId": "ec8215c9-046d-4ee1-fcf0-38871d16ff83"
      },
      "source": [
        "print(word2vec_model.wv.similarity('vaccination', 'covid'))"
      ],
      "execution_count": 17,
      "outputs": [
        {
          "output_type": "stream",
          "text": [
            "0.8583291\n"
          ],
          "name": "stdout"
        }
      ]
    },
    {
      "cell_type": "code",
      "metadata": {
        "colab": {
          "base_uri": "https://localhost:8080/"
        },
        "id": "f7ppK2OJQj2X",
        "outputId": "f344ea3d-c951-4469-c7ee-abd545a118e4"
      },
      "source": [
        "print(word2vec_model.wv.similarity('vaccination', 'vaccination'))"
      ],
      "execution_count": 18,
      "outputs": [
        {
          "output_type": "stream",
          "text": [
            "1.0\n"
          ],
          "name": "stdout"
        }
      ]
    },
    {
      "cell_type": "code",
      "metadata": {
        "colab": {
          "base_uri": "https://localhost:8080/"
        },
        "id": "y3W_OXvnQlb_",
        "outputId": "05ab9b29-2859-4757-a09b-6456828a7b99"
      },
      "source": [
        "vocab = list(word2vec_model.wv.vocab)\n",
        "print(len(vocab))"
      ],
      "execution_count": 19,
      "outputs": [
        {
          "output_type": "stream",
          "text": [
            "801\n"
          ],
          "name": "stdout"
        }
      ]
    },
    {
      "cell_type": "code",
      "metadata": {
        "id": "-vuvUq0kQm5x"
      },
      "source": [
        "count = {'punc': 0, 'digit': 0, 'abnormal': 0}\n",
        "for i in range(len(vocab)):\n",
        "  if vocab[i] in string.punctuation:\n",
        "    # print('punctuation: ', vocab[i], ' removed')\n",
        "    vocab[i] = ''\n",
        "    count['punc'] += 1\n",
        "  elif vocab[i].isdigit():\n",
        "    # print('digit: ', vocab[i], ' removed')\n",
        "    vocab[i] = ''\n",
        "    count['digit'] += 1\n",
        "  elif any(p in vocab[i] for p in string.punctuation):\n",
        "    # print('abnormal: ', vocab[i], ' removed')\n",
        "    vocab[i] = ''\n",
        "    count['abnormal'] += 1\n",
        "  else:\n",
        "    pass\n",
        "    # print(vocab[i])"
      ],
      "execution_count": 20,
      "outputs": []
    },
    {
      "cell_type": "code",
      "metadata": {
        "colab": {
          "base_uri": "https://localhost:8080/"
        },
        "id": "JE-Tf8lbQolr",
        "outputId": "0bfc7421-e001-426f-c0d7-d67b2339a93f"
      },
      "source": [
        "print(count)\n",
        "print(sum(count.values()))\n",
        "print(len(vocab))"
      ],
      "execution_count": 21,
      "outputs": [
        {
          "output_type": "stream",
          "text": [
            "{'punc': 14, 'digit': 21, 'abnormal': 26}\n",
            "61\n",
            "801\n"
          ],
          "name": "stdout"
        }
      ]
    },
    {
      "cell_type": "code",
      "metadata": {
        "colab": {
          "base_uri": "https://localhost:8080/"
        },
        "id": "JHyU8FVOQqS9",
        "outputId": "18845714-5a82-4012-ffb0-88d081eeb6fc"
      },
      "source": [
        "for i in range(sum(count.values())):\n",
        "  vocab.remove('')\n",
        "print(len(vocab))"
      ],
      "execution_count": 22,
      "outputs": [
        {
          "output_type": "stream",
          "text": [
            "740\n"
          ],
          "name": "stdout"
        }
      ]
    },
    {
      "cell_type": "code",
      "metadata": {
        "id": "r7paf7h4Qrnx"
      },
      "source": [
        "%matplotlib inline\n",
        "# %matplotlib notebook\n",
        "# import mpld3\n",
        "# mpld3.enable_notebook()\n",
        "import matplotlib.pyplot as plt\n",
        "from sklearn.decomposition import PCA\n",
        "import warnings\n",
        "warnings.filterwarnings(\"ignore\")\n",
        "\n",
        "# instantiate a PCA object\n",
        "pca = PCA(n_components=2)\n",
        "# fit and transform the PCA object\n",
        "my_pca = pca.fit_transform(word2vec_model[vocab])"
      ],
      "execution_count": 23,
      "outputs": []
    },
    {
      "cell_type": "code",
      "metadata": {
        "colab": {
          "base_uri": "https://localhost:8080/",
          "height": 272
        },
        "id": "k1Yvn7DKQtIn",
        "outputId": "9a167464-8fa6-4a42-b659-aac13738f24c"
      },
      "source": [
        "x1 = 'vaccination'\n",
        "ind1 = vocab.index(x1)\n",
        "neighbor1 = []\n",
        "for i in range(len(vocab)):\n",
        "  if word2vec_model.wv.similarity(x1, vocab[i]) > 0.965:\n",
        "    neighbor1.append(i)\n",
        "\n",
        "# plot the data\n",
        "plt.scatter(my_pca[neighbor1, 0], my_pca[neighbor1, 1], alpha=1, color='lightblue')\n",
        "# annotate plot\n",
        "for i, word in enumerate(vocab):\n",
        "  # if len(word) < 2:\n",
        "  #   break\n",
        "  if i in neighbor1:\n",
        "    if i == ind1:\n",
        "      plt.annotate(x1, xy=(my_pca[ind1, 0], my_pca[ind1, 1]), color='red', ha='center')\n",
        "    else:\n",
        "      plt.annotate(word, xy=(my_pca[i, 0], my_pca[i, 1]), color='black', size=8, ha='center')\n",
        "  else:\n",
        "    continue\n",
        "plt.axis((-0.6, -0.1, 0, 0.5))\n",
        "plt.show();"
      ],
      "execution_count": 31,
      "outputs": [
        {
          "output_type": "display_data",
          "data": {
            "image/png": "[encoded data removed]",
            "text/plain": [
              "<Figure size 432x288 with 1 Axes>"
            ]
          },
          "metadata": {
            "tags": [],
            "needs_background": "light"
          }
        }
      ]
    },
    {
      "cell_type": "code",
      "metadata": {
        "colab": {
          "base_uri": "https://localhost:8080/",
          "height": 272
        },
        "id": "wT53OaSnVTqI",
        "outputId": "c8e07b02-adc1-42a1-c9d8-9bb9cb9e4fb4"
      },
      "source": [
        "x2 = 'pfizer'\n",
        "ind2 = vocab.index(x2)\n",
        "neighbor2 = []\n",
        "for i in range(len(vocab)):\n",
        "  if word2vec_model.wv.similarity(x2, vocab[i]) > 0.94:\n",
        "    neighbor2.append(i)\n",
        "\n",
        "# plot the data\n",
        "plt.scatter(my_pca[neighbor2, 0], my_pca[neighbor2, 1], alpha=1, color='lightblue')\n",
        "# annotate plot\n",
        "for i, word in enumerate(vocab):\n",
        "  # if len(word) < 2:\n",
        "  #   break\n",
        "  if i in neighbor2:\n",
        "    if i == ind2:\n",
        "      plt.annotate(x2, xy=(my_pca[ind2, 0], my_pca[ind2, 1]), color='red', ha='center')\n",
        "    else:\n",
        "      plt.annotate(word, xy=(my_pca[i, 0], my_pca[i, 1]), color='black', size=8, ha='center')\n",
        "  else:\n",
        "    continue\n",
        "plt.axis((-0.8, -0.2, 0.1, 1.0))\n",
        "plt.show();"
      ],
      "execution_count": 29,
      "outputs": [
        {
          "output_type": "display_data",
          "data": {
            "image/png": "[encoded data removed]",
            "text/plain": [
              "<Figure size 432x288 with 1 Axes>"
            ]
          },
          "metadata": {
            "tags": [],
            "needs_background": "light"
          }
        }
      ]
    },
    {
      "cell_type": "code",
      "metadata": {
        "colab": {
          "base_uri": "https://localhost:8080/",
          "height": 272
        },
        "id": "Vx2mVWgpVcQZ",
        "outputId": "e9f68ce7-738b-4d35-922f-68526a4b6304"
      },
      "source": [
        "x3 = 'covid19'\n",
        "ind3 = vocab.index(x3)\n",
        "neighbor3 = []\n",
        "for i in range(len(vocab)):\n",
        "  if word2vec_model.wv.similarity(x3, vocab[i]) > 0.96:\n",
        "    neighbor3.append(i)\n",
        "\n",
        "# plot the data\n",
        "plt.scatter(my_pca[neighbor3, 0], my_pca[neighbor3, 1], alpha=1, color='lightblue')\n",
        "# annotate plot\n",
        "for i, word in enumerate(vocab):\n",
        "  # if len(word) < 2:\n",
        "  #   break\n",
        "  if i in neighbor3:\n",
        "    if i == ind3:\n",
        "      plt.annotate(x3, xy=(my_pca[ind3, 0], my_pca[ind3, 1]), color='red', ha='center')\n",
        "    else:\n",
        "      plt.annotate(word, xy=(my_pca[i, 0], my_pca[i, 1]), color='black', size=8, ha='center')\n",
        "  else:\n",
        "    continue\n",
        "plt.axis((-0.9, -0.2, 0.4, 1.3))\n",
        "plt.show();"
      ],
      "execution_count": 30,
      "outputs": [
        {
          "output_type": "display_data",
          "data": {
            "image/png": "[encoded data removed]",
            "text/plain": [
              "<Figure size 432x288 with 1 Axes>"
            ]
          },
          "metadata": {
            "tags": [],
            "needs_background": "light"
          }
        }
      ]
    },
    {
      "cell_type": "code",
      "metadata": {
        "colab": {
          "base_uri": "https://localhost:8080/",
          "height": 272
        },
        "id": "n6MveUFmVvQF",
        "outputId": "eb9d5115-9be5-45c6-ebed-d4610b14236b"
      },
      "source": [
        "# plot the data\n",
        "# fig , ax = plt.subplot()\n",
        "plt.scatter(my_pca[:, 0], my_pca[:, 1], alpha=0.5, color='gray', label='other words')\n",
        "plt.scatter(my_pca[neighbor1, 0], my_pca[neighbor1, 1], alpha=0.5, color='red', label=x1)\n",
        "plt.scatter(my_pca[neighbor2, 0], my_pca[neighbor2, 1], alpha=0.5, color='green', label=x2)\n",
        "plt.scatter(my_pca[neighbor3, 0], my_pca[neighbor3, 1], alpha=0.5, color='blue', label=x3)\n",
        "# annotate plot\n",
        "# for i, word in enumerate(vocab):\n",
        "#   if len(word) < 2:\n",
        "#     break\n",
        "#   plt.annotate(word, xy=(my_pca[i, 0], my_pca[i, 1]), fontsize=5, size=5)\n",
        "\n",
        "plt.axis((-1.5, 3, -1.5, 2.5))\n",
        "plt.legend()\n",
        "plt.show();\n",
        "# mpld3.display()"
      ],
      "execution_count": 27,
      "outputs": [
        {
          "output_type": "display_data",
          "data": {
            "image/png": "[encoded data removed]",
            "text/plain": [
              "<Figure size 432x288 with 1 Axes>"
            ]
          },
          "metadata": {
            "tags": [],
            "needs_background": "light"
          }
        }
      ]
    },
    {
      "cell_type": "code",
      "metadata": {
        "id": "3BgJCoTGV0FY"
      },
      "source": [
        ""
      ],
      "execution_count": 27,
      "outputs": []
    }
  ]
}